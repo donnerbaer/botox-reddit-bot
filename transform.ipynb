{
 "cells": [
  {
   "cell_type": "code",
   "execution_count": 1,
   "metadata": {},
   "outputs": [],
   "source": [
    "import sqlite3\n",
    "import configparser\n",
    "\n",
    "\n",
    "# your .tsv for import file\n",
    "file_name = \"tsv/dataset_part3.tsv\""
   ]
  },
  {
   "cell_type": "code",
   "execution_count": 2,
   "metadata": {},
   "outputs": [],
   "source": [
    "query_insert = \"\"\"\n",
    "        INSERT INTO reddit_bots VALUES (?, ?, ?, ?, ?, ?, ?, ?, ?, ?, ?, ?, ?, ?, ?);\n",
    "\"\"\""
   ]
  },
  {
   "cell_type": "code",
   "execution_count": 3,
   "metadata": {},
   "outputs": [],
   "source": [
    "config = configparser.ConfigParser()\n",
    "config.read('config.ini')\n",
    "connection = sqlite3.connect(config['DATABASE']['FILE'])\n",
    "cursor = connection.cursor()"
   ]
  },
  {
   "cell_type": "code",
   "execution_count": 4,
   "metadata": {},
   "outputs": [],
   "source": [
    "data = []\n",
    "unique_account = set()\n",
    "\n",
    "with open(file_name, 'r', encoding=\"utf-8\") as file:\n",
    "    is_first_line = True\n",
    "    file.readline().split(\"\\t\")\n",
    "    for line in file:\n",
    "        if is_first_line:\n",
    "            is_first_line = False\n",
    "            continue\n",
    "        len_unique_account = len(unique_account)\n",
    "        line = line.replace('\\n','')\n",
    "        line = line.split(\"\\t\")\n",
    "\n",
    "        line[2] = line[2].strip()\n",
    "\n",
    "        user = line[2]\n",
    "        user = user.replace(\"^s\",\"\")\n",
    "        user = user.replace(\"^b\",\"\")\n",
    "        user = user.replace(\"/submitted\",\"\")\n",
    "        user = user.replace(\"'s\",\"\")\n",
    "        user = user.replace(\"\\\\\",\"\")\n",
    "        user = user.replace(\"/overview\",\"\")\n",
    "        user = user.replace(\"u/\",\"\")\n",
    "        user = user.replace(\"/posts\",\"\")\n",
    "        user = user.replace(\"https://www.reddit.com/user/\",\"\")\n",
    "        user = user.replace(\"https://old.reddit.com/user/\",\"\")\n",
    "        if user.find(\"/comments\") > -1:\n",
    "            user = user[:(user.find(\"/comments\"))]\n",
    "\n",
    "        if user.find(\"|\") > -1:\n",
    "            user = user[:(user.find(\"|\"))]\n",
    "\n",
    "\n",
    "        unique_account.add(user)\n",
    "        is_duplicate = True\n",
    "\n",
    "        if len(unique_account) == len_unique_account:\n",
    "            continue\n",
    "            is_duplicate = False\n",
    "\n",
    "        if '/' in user:\n",
    "            continue\n",
    "        \n",
    "        annotator = line[1] \n",
    "        if line[1] == None or line[1] == '':\n",
    "            annotator = None\n",
    "\n",
    "        data = (annotator, user, None, None, None, None, None, None, None, None, None, None, None, None, None)\n",
    "        cursor.execute(query_insert,(data) )\n",
    "        connection.commit()"
   ]
  },
  {
   "cell_type": "code",
   "execution_count": 5,
   "metadata": {},
   "outputs": [],
   "source": [
    "cursor.close()\n",
    "connection.close()"
   ]
  }
 ],
 "metadata": {
  "kernelspec": {
   "display_name": "Python 3",
   "language": "python",
   "name": "python3"
  },
  "language_info": {
   "codemirror_mode": {
    "name": "ipython",
    "version": 3
   },
   "file_extension": ".py",
   "mimetype": "text/x-python",
   "name": "python",
   "nbconvert_exporter": "python",
   "pygments_lexer": "ipython3",
   "version": "3.12.2"
  }
 },
 "nbformat": 4,
 "nbformat_minor": 2
}
