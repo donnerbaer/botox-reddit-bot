{
 "cells": [
  {
   "cell_type": "code",
   "execution_count": 1,
   "metadata": {},
   "outputs": [],
   "source": [
    "import sqlite3\n",
    "\n",
    "\n",
    "# your .tsv for import file\n",
    "file_name = \"dataset_part3.tsv\""
   ]
  },
  {
   "cell_type": "code",
   "execution_count": 2,
   "metadata": {},
   "outputs": [],
   "source": [
    "query_create = \"\"\"\n",
    "        CREATE TABLE IF NOT EXISTS reddit_bots(\n",
    "            id INTEGER,\n",
    "            unnamed INTEGER,\n",
    "            annotator TEXT,\n",
    "            user_id TEXT,\n",
    "            was_fetched INTEGER,\n",
    "            is_duplicate INTEGER,\n",
    "            is_deleted INTEGER,\n",
    "            is_banned INTEGER,\n",
    "            human INTEGER,\n",
    "            bot INTEGER,\n",
    "            like INTEGER,\n",
    "            repost INTEGER,\n",
    "            derived_content INTEGER,\n",
    "            repeated_posts INTEGER,\n",
    "            fluent_content INTEGER,\n",
    "            active_inactivity_period INTEGER,\n",
    "            high_frequency_activity INTEGER,\n",
    "            note TEXT,\n",
    "            PRIMARY KEY(unnamed, user_id)\n",
    "            );\n",
    "        \"\"\"\n",
    "\n",
    "\n",
    "query_insert = \"\"\"\n",
    "        INSERT INTO reddit_bots VALUES (?, ?, ?, ?, ?, ?, ?, ?, ?, ?, ?, ?, ?, ?, ?, ?, ?, ?);\n",
    "\"\"\"\n"
   ]
  },
  {
   "cell_type": "code",
   "execution_count": 3,
   "metadata": {},
   "outputs": [],
   "source": [
    "connection = sqlite3.connect(\"database/database.db\")\n",
    "cursor = connection.cursor()\n"
   ]
  },
  {
   "cell_type": "code",
   "execution_count": 4,
   "metadata": {},
   "outputs": [],
   "source": [
    "cursor.execute(query_create)\n",
    "connection.commit()\n"
   ]
  },
  {
   "cell_type": "code",
   "execution_count": 5,
   "metadata": {},
   "outputs": [
    {
     "name": "stdout",
     "output_type": "stream",
     "text": [
      "0\n"
     ]
    }
   ],
   "source": [
    "data = []\n",
    "unique_account = set()\n",
    "\n",
    "with open(file_name, 'r', encoding=\"utf-8\") as file:\n",
    "    is_first_line = True\n",
    "    file.readline().split(\"\\t\")\n",
    "    for line in file:\n",
    "        if is_first_line:\n",
    "            is_first_line = False\n",
    "            continue\n",
    "        len_unique_account = len(unique_account)\n",
    "        line = line.replace('\\n','')\n",
    "        line = line.split(\"\\t\")\n",
    "\n",
    "        line[3] = line[3].strip()\n",
    "\n",
    "        user = line[3]\n",
    "        user = user.replace(\"^s\",\"\")\n",
    "        user = user.replace(\"/submitted\",\"\")\n",
    "        user = user.replace(\"'s\",\"\")\n",
    "        user = user.replace(\"\\\\\",\"\")\n",
    "        user = user.replace(\"/overview\",\"\")\n",
    "        user = user.replace(\"u/\",\"\")\n",
    "        user = user.replace(\"https://www.reddit.com/user/\",\"\")\n",
    "        user = user.replace(\"https://old.reddit.com/user/\",\"\")\n",
    "        if user.find(\"/comments\") > -1:\n",
    "            user = user[:(user.find(\"/comments\"))]\n",
    "\n",
    "        if user.find(\"|\") > -1:\n",
    "            user = user[:(user.find(\"|\"))]\n",
    "\n",
    "        #print(\"{}\\t{}\".format(line[0],user))\n",
    "        unique_account.add(user)\n",
    "        is_duplicate = True\n",
    "        if len(unique_account) > len_unique_account:\n",
    "            is_duplicate = False\n",
    "            \n",
    "        cursor.execute(query_insert,(line[0], line[1], None, user, None, is_duplicate, None, None, None, None, None, None, None, None, None, None, None, None) )\n",
    "    connection.commit()"
   ]
  },
  {
   "cell_type": "code",
   "execution_count": 6,
   "metadata": {},
   "outputs": [],
   "source": [
    "cursor.close()\n",
    "connection.close()"
   ]
  }
 ],
 "metadata": {
  "kernelspec": {
   "display_name": "Python 3",
   "language": "python",
   "name": "python3"
  },
  "language_info": {
   "codemirror_mode": {
    "name": "ipython",
    "version": 3
   },
   "file_extension": ".py",
   "mimetype": "text/x-python",
   "name": "python",
   "nbconvert_exporter": "python",
   "pygments_lexer": "ipython3",
   "version": "3.12.2"
  }
 },
 "nbformat": 4,
 "nbformat_minor": 2
}
